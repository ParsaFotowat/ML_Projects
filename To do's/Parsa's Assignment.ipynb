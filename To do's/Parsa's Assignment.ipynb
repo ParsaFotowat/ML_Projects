{
 "cells": [
  {
   "cell_type": "markdown",
   "id": "d214bffc",
   "metadata": {},
   "source": [
    "Parsa's Assignment"
   ]
  },
  {
   "cell_type": "markdown",
   "id": "d2b40c13",
   "metadata": {},
   "source": [
    "# intro:\n",
    "This course introduced me to multiple data science tools, and in this final project, i will use Jupyterlite Notebook, one of the easiest tools to share publicly. "
   ]
  },
  {
   "cell_type": "markdown",
   "id": "6d495a1c",
   "metadata": {},
   "source": [
    "# Objectives:\n",
    "\n",
    ". popular languages for Data Science\n",
    "\n",
    ". data science libraries\n",
    "\n",
    ". data science tools table\n",
    "\n",
    ". basic arithmetic expressions"
   ]
  },
  {
   "cell_type": "markdown",
   "id": "ca3e1d25",
   "metadata": {},
   "source": [
    "# Data Science Languages\n",
    "\n",
    "1. Python\n",
    "\n",
    "2. R\n",
    "\n",
    "3. SQL\n",
    "\n",
    "4. Julia\n",
    "\n",
    "5. SAS\n"
   ]
  },
  {
   "cell_type": "markdown",
   "id": "22818ac3",
   "metadata": {},
   "source": [
    "# Data Science Libraries\n",
    "Data Manipulation and Analysis:\n",
    "\n",
    "1. pandas: A powerful library for data manipulation and analysis. It provides data structures like DataFrames and Series for handling and analyzing structured data.\n",
    "\n",
    "2. NumPy: A fundamental library for numerical computing in Python. It offers support for arrays, matrices, and mathematical functions.\n",
    "\n",
    "# Data Visualization:\n",
    "3. Matplotlib: A widely used library for creating static, animated, and interactive visualizations in Python. It is particularly useful for 2D plotting.\n",
    "\n",
    "4. Seaborn: Built on top of Matplotlib, Seaborn provides a higher-level interface for creating informative and attractive statistical graphics.\n",
    "\n",
    "5. Plotly: A library for creating interactive, web-based visualizations. It supports various chart types and dashboards.\n",
    "\n",
    "6. Bokeh: Another library for interactive data visualization with a focus on creating web-based dashboards and applications.\n",
    "\n",
    "# Machine Learning:\n",
    "7. scikit-learn: An extensive library for machine learning in Python. It provides tools for classification, regression, clustering, dimensionality reduction, and more.\n",
    "\n",
    "8. TensorFlow: An open-source machine learning framework developed by Google. It is widely used for deep learning and neural network-based tasks.\n",
    "\n",
    "9. PyTorch: An open-source deep learning framework developed by Facebook's AI Research lab. PyTorch is known for its flexibility and dynamic computation graph.\n",
    "\n",
    "10. Keras: A high-level neural networks API that can run on top of TensorFlow, Theano, or CNTK. It simplifies the process of building and training deep learning models.\n",
    "\n",
    "11. XGBoost: A popular gradient boosting library used for structured/tabular data and often used for winning machine learning competitions.\n",
    "\n",
    "# Natural Language Processing (NLP):\n",
    "12. NLTK (Natural Language Toolkit): A comprehensive library for NLP and text analysis in Python. It provides tools for tokenization, stemming, tagging, parsing, and more.\n",
    "\n",
    "13. spaCy: A fast and efficient library for NLP tasks, with support for tokenization, named entity recognition, and part-of-speech tagging.\n",
    "\n",
    "14. Transformers (Hugging Face): A library that offers pre-trained transformer-based models for various NLP tasks, such as BERT, GPT-2, and RoBERTa.\n",
    "\n",
    "# Big Data Processing:\n",
    "15. Apache Spark: A popular open-source framework for big data processing, machine learning, and distributed computing. It provides APIs for Python, Java, Scala, and R.\n"
   ]
  },
  {
   "cell_type": "markdown",
   "id": "d07fea8f",
   "metadata": {},
   "source": [
    "# Data Science Tools Table:\n",
    "\n",
    "| Data Science Tools                 | Description                                          |\n",
    "|----------------------|------------------------------------------------------|\n",
    "| Jupyter Notebook     | Interactive data analysis and code documentation.   |\n",
    "| RStudio              | Integrated development environment for R.           |\n",
    "| Anaconda             | Python and R distribution for data science.        |\n",
    "| Tableau              | Data visualization and dashboard creation.         |\n",
    "| Power BI             | Business analytics and data visualization tool.     |\n",
    "| RapidMiner           | Open-source data science platform for analytics.   |\n",
    "| KNIME                | Open-source data analytics and reporting platform.  |\n",
    "| Excel                | General-purpose spreadsheet software.              |\n",
    "| Alteryx              | Data blending and advanced analytics platform.     |\n",
    "| SAS                  | Statistical analysis and data analytics software.  |\n",
    "| SPSS                 | Statistical analysis software by IBM.              |\n",
    "| Apache Hadoop        | Framework for distributed storage and processing. |\n",
    "| Apache Spark         | Distributed big data processing framework.        |\n",
    "| Apache Flink         | Stream processing framework for big data.         |\n",
    "| RapidMiner           | Data science platform with data mining tools.     |\n",
    "| Weka                 | Collection of machine learning algorithms.         |\n",
    "| D3.js                | JavaScript library for interactive data visuals.   |\n",
    "| Selenium             | Web testing tool for data scraping and automation. |\n",
    "| Apache Mahout        | Machine learning library for big data.            |\n",
    "| Orange               | Open-source data visualization and analysis tool.  |\n"
   ]
  },
  {
   "cell_type": "markdown",
   "id": "db02ded7",
   "metadata": {},
   "source": [
    "## Arithmetic Expression Examples\n",
    "\n",
    "In mathematics and computer science, arithmetic expressions are used to perform mathematical operations on numbers. These expressions can involve basic arithmetic operators such as addition, subtraction, multiplication, and division. They are fundamental for calculations and solving various problems. Let's explore some common examples of arithmetic expressions:\n",
    "\n",
    "### Addition\n",
    "\n",
    "Addition is one of the basic arithmetic operations, used to find the sum of two or more numbers. For example:\n",
    "\n",
    "2 + 3 = 5\n",
    "\n",
    "10 + 15 + 5 = 30\n",
    "\n",
    "\n",
    "### Subtraction\n",
    "\n",
    "Subtraction allows us to find the difference between two numbers. For example:\n",
    "\n",
    "7 - 4 = 3\n",
    "\n",
    "20 - 10 = 10\n",
    "\n",
    "\n",
    "### Multiplication\n",
    "\n",
    "Multiplication is used to find the product of two or more numbers. For example:\n",
    "\n",
    "5 * 4 = 20\n",
    "\n",
    "2 * 7 * 3 = 42\n",
    "\n",
    "\n",
    "### Division\n",
    "\n",
    "Division is used to find the quotient when one number is divided by another. For example:\n",
    "\n",
    "10 / 2 = 5\n",
    "\n",
    "15 / 3 = 5\n"
   ]
  },
  {
   "cell_type": "code",
   "execution_count": 9,
   "id": "5345529f",
   "metadata": {},
   "outputs": [
    {
     "name": "stdout",
     "output_type": "stream",
     "text": [
      "15\n",
      "8\n"
     ]
    }
   ],
   "source": [
    "# Multiply two numbers\n",
    "num1 = 5\n",
    "num2 = 3\n",
    "result_multiply = num1 * num2\n",
    "print(result_multiply)\n",
    "\n",
    "# Add two numbers\n",
    "result_add=num1+num2\n",
    "print(result_add)"
   ]
  },
  {
   "cell_type": "code",
   "execution_count": 14,
   "id": "59d317f8",
   "metadata": {},
   "outputs": [
    {
     "data": {
      "text/plain": [
       "2.0"
      ]
     },
     "execution_count": 14,
     "metadata": {},
     "output_type": "execute_result"
    }
   ],
   "source": [
    "# Input: Minutes to be converted\n",
    "minutes = 120\n",
    "\n",
    "# Conversion: Divide minutes by 60 to get hours\n",
    "hours = minutes / 60\n",
    "\n",
    "# Display the result\n",
    "hours\n"
   ]
  },
  {
   "cell_type": "markdown",
   "id": "fc67a0b4",
   "metadata": {},
   "source": [
    "# Author\n",
    "\n",
    "Parsa Fotowat"
   ]
  },
  {
   "cell_type": "code",
   "execution_count": null,
   "id": "ae42ea4f",
   "metadata": {},
   "outputs": [],
   "source": []
  }
 ],
 "metadata": {
  "kernelspec": {
   "display_name": "Python 3 (ipykernel)",
   "language": "python",
   "name": "python3"
  },
  "language_info": {
   "codemirror_mode": {
    "name": "ipython",
    "version": 3
   },
   "file_extension": ".py",
   "mimetype": "text/x-python",
   "name": "python",
   "nbconvert_exporter": "python",
   "pygments_lexer": "ipython3",
   "version": "3.11.4"
  }
 },
 "nbformat": 4,
 "nbformat_minor": 5
}
